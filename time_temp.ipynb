{
  "nbformat": 4,
  "nbformat_minor": 0,
  "metadata": {
    "colab": {
      "name": "Untitled0.ipynb",
      "provenance": [],
      "toc_visible": true,
      "authorship_tag": "ABX9TyPG1+G9LM11vJRHsWTOy+VH",
      "include_colab_link": true
    },
    "kernelspec": {
      "name": "python3",
      "display_name": "Python 3"
    },
    "language_info": {
      "name": "python"
    }
  },
  "cells": [
    {
      "cell_type": "markdown",
      "metadata": {
        "id": "view-in-github",
        "colab_type": "text"
      },
      "source": [
        "<a href=\"https://colab.research.google.com/github/vyom-git/colab/blob/main/time_temp.ipynb\" target=\"_parent\"><img src=\"https://colab.research.google.com/assets/colab-badge.svg\" alt=\"Open In Colab\"/></a>"
      ]
    },
    {
      "cell_type": "code",
      "metadata": {
        "id": "zMoibp73RzIc"
      },
      "source": [
        "import pandas as pd\n",
        "from datetime import datetime, timedelta\n",
        "import matplotlib.pyplot as plt\n",
        "import numpy as np\n",
        "from statsmodels.tsa.seasonal import seasonal_decompose\n",
        "import seaborn as sns\n",
        "\n",
        "%matplotlib inline\n",
        "\n",
        "import warnings\n",
        "warnings.filterwarnings('ignore')"
      ],
      "execution_count": 3,
      "outputs": []
    },
    {
      "cell_type": "code",
      "metadata": {
        "colab": {
          "base_uri": "https://localhost:8080/"
        },
        "id": "-dOQc3qOSk7a",
        "outputId": "621557df-5609-4f7d-d07f-aa278c2396b2"
      },
      "source": [
        "from google.colab import drive\n",
        "drive.mount('/content/drive')"
      ],
      "execution_count": 5,
      "outputs": [
        {
          "output_type": "stream",
          "name": "stdout",
          "text": [
            "Mounted at /content/drive\n"
          ]
        }
      ]
    },
    {
      "cell_type": "code",
      "metadata": {
        "id": "xnWsdyH2UbVd"
      },
      "source": [
        "df = pd.read_csv('/content/drive/My Drive/colab_data/GlobalLandTemperaturesByState.csv')"
      ],
      "execution_count": 6,
      "outputs": []
    },
    {
      "cell_type": "code",
      "metadata": {
        "colab": {
          "base_uri": "https://localhost:8080/",
          "height": 206
        },
        "id": "76oOe1M5UzsC",
        "outputId": "d80e6eaf-4087-411f-cdb3-3a54783f21e6"
      },
      "source": [
        "df.head()"
      ],
      "execution_count": 7,
      "outputs": [
        {
          "output_type": "execute_result",
          "data": {
            "text/html": [
              "<div>\n",
              "<style scoped>\n",
              "    .dataframe tbody tr th:only-of-type {\n",
              "        vertical-align: middle;\n",
              "    }\n",
              "\n",
              "    .dataframe tbody tr th {\n",
              "        vertical-align: top;\n",
              "    }\n",
              "\n",
              "    .dataframe thead th {\n",
              "        text-align: right;\n",
              "    }\n",
              "</style>\n",
              "<table border=\"1\" class=\"dataframe\">\n",
              "  <thead>\n",
              "    <tr style=\"text-align: right;\">\n",
              "      <th></th>\n",
              "      <th>dt</th>\n",
              "      <th>AverageTemperature</th>\n",
              "      <th>AverageTemperatureUncertainty</th>\n",
              "      <th>State</th>\n",
              "      <th>Country</th>\n",
              "    </tr>\n",
              "  </thead>\n",
              "  <tbody>\n",
              "    <tr>\n",
              "      <th>0</th>\n",
              "      <td>1855-05-01</td>\n",
              "      <td>25.544</td>\n",
              "      <td>1.171</td>\n",
              "      <td>Acre</td>\n",
              "      <td>Brazil</td>\n",
              "    </tr>\n",
              "    <tr>\n",
              "      <th>1</th>\n",
              "      <td>1855-06-01</td>\n",
              "      <td>24.228</td>\n",
              "      <td>1.103</td>\n",
              "      <td>Acre</td>\n",
              "      <td>Brazil</td>\n",
              "    </tr>\n",
              "    <tr>\n",
              "      <th>2</th>\n",
              "      <td>1855-07-01</td>\n",
              "      <td>24.371</td>\n",
              "      <td>1.044</td>\n",
              "      <td>Acre</td>\n",
              "      <td>Brazil</td>\n",
              "    </tr>\n",
              "    <tr>\n",
              "      <th>3</th>\n",
              "      <td>1855-08-01</td>\n",
              "      <td>25.427</td>\n",
              "      <td>1.073</td>\n",
              "      <td>Acre</td>\n",
              "      <td>Brazil</td>\n",
              "    </tr>\n",
              "    <tr>\n",
              "      <th>4</th>\n",
              "      <td>1855-09-01</td>\n",
              "      <td>25.675</td>\n",
              "      <td>1.014</td>\n",
              "      <td>Acre</td>\n",
              "      <td>Brazil</td>\n",
              "    </tr>\n",
              "  </tbody>\n",
              "</table>\n",
              "</div>"
            ],
            "text/plain": [
              "           dt  AverageTemperature  AverageTemperatureUncertainty State Country\n",
              "0  1855-05-01              25.544                          1.171  Acre  Brazil\n",
              "1  1855-06-01              24.228                          1.103  Acre  Brazil\n",
              "2  1855-07-01              24.371                          1.044  Acre  Brazil\n",
              "3  1855-08-01              25.427                          1.073  Acre  Brazil\n",
              "4  1855-09-01              25.675                          1.014  Acre  Brazil"
            ]
          },
          "metadata": {},
          "execution_count": 7
        }
      ]
    },
    {
      "cell_type": "code",
      "metadata": {
        "colab": {
          "base_uri": "https://localhost:8080/"
        },
        "id": "IKZr9jyNU2g5",
        "outputId": "5329f0e5-39d9-4764-f560-6142497a9935"
      },
      "source": [
        "df.dtypes"
      ],
      "execution_count": 8,
      "outputs": [
        {
          "output_type": "execute_result",
          "data": {
            "text/plain": [
              "dt                                object\n",
              "AverageTemperature               float64\n",
              "AverageTemperatureUncertainty    float64\n",
              "State                             object\n",
              "Country                           object\n",
              "dtype: object"
            ]
          },
          "metadata": {},
          "execution_count": 8
        }
      ]
    },
    {
      "cell_type": "code",
      "metadata": {
        "colab": {
          "base_uri": "https://localhost:8080/"
        },
        "id": "w4PBwZ5RVAif",
        "outputId": "81993c31-8e17-4026-c9ee-7bdd029331fd"
      },
      "source": [
        "df.isnull().sum()"
      ],
      "execution_count": 9,
      "outputs": [
        {
          "output_type": "execute_result",
          "data": {
            "text/plain": [
              "dt                                   0\n",
              "AverageTemperature               25648\n",
              "AverageTemperatureUncertainty    25648\n",
              "State                                0\n",
              "Country                              0\n",
              "dtype: int64"
            ]
          },
          "metadata": {},
          "execution_count": 9
        }
      ]
    },
    {
      "cell_type": "code",
      "metadata": {
        "id": "feUCK5nLVDwD"
      },
      "source": [
        "df = df.dropna(how='any', axis=0)"
      ],
      "execution_count": 10,
      "outputs": []
    },
    {
      "cell_type": "code",
      "metadata": {
        "colab": {
          "base_uri": "https://localhost:8080/"
        },
        "id": "l-DON16wVLXQ",
        "outputId": "eef41741-e347-440e-c51b-e7a094550524"
      },
      "source": [
        "df.shape"
      ],
      "execution_count": 11,
      "outputs": [
        {
          "output_type": "execute_result",
          "data": {
            "text/plain": [
              "(620027, 5)"
            ]
          },
          "metadata": {},
          "execution_count": 11
        }
      ]
    },
    {
      "cell_type": "code",
      "metadata": {
        "colab": {
          "base_uri": "https://localhost:8080/",
          "height": 206
        },
        "id": "7Prh7iemVMTx",
        "outputId": "a05fb49f-69c6-47c7-837b-a920ba0ccf54"
      },
      "source": [
        "df.rename(columns={'dt':'date', 'AverageTemperature':'avg_temp', 'AverageTemperatureUncertainty':'conf_int_temp'}, inplace=True)\n",
        "df.head()"
      ],
      "execution_count": 19,
      "outputs": [
        {
          "output_type": "execute_result",
          "data": {
            "text/html": [
              "<div>\n",
              "<style scoped>\n",
              "    .dataframe tbody tr th:only-of-type {\n",
              "        vertical-align: middle;\n",
              "    }\n",
              "\n",
              "    .dataframe tbody tr th {\n",
              "        vertical-align: top;\n",
              "    }\n",
              "\n",
              "    .dataframe thead th {\n",
              "        text-align: right;\n",
              "    }\n",
              "</style>\n",
              "<table border=\"1\" class=\"dataframe\">\n",
              "  <thead>\n",
              "    <tr style=\"text-align: right;\">\n",
              "      <th></th>\n",
              "      <th>date</th>\n",
              "      <th>avg_temp</th>\n",
              "      <th>conf_int_temp</th>\n",
              "      <th>State</th>\n",
              "      <th>Country</th>\n",
              "    </tr>\n",
              "  </thead>\n",
              "  <tbody>\n",
              "    <tr>\n",
              "      <th>0</th>\n",
              "      <td>1855-05-01</td>\n",
              "      <td>25.544</td>\n",
              "      <td>1.171</td>\n",
              "      <td>Acre</td>\n",
              "      <td>Brazil</td>\n",
              "    </tr>\n",
              "    <tr>\n",
              "      <th>1</th>\n",
              "      <td>1855-06-01</td>\n",
              "      <td>24.228</td>\n",
              "      <td>1.103</td>\n",
              "      <td>Acre</td>\n",
              "      <td>Brazil</td>\n",
              "    </tr>\n",
              "    <tr>\n",
              "      <th>2</th>\n",
              "      <td>1855-07-01</td>\n",
              "      <td>24.371</td>\n",
              "      <td>1.044</td>\n",
              "      <td>Acre</td>\n",
              "      <td>Brazil</td>\n",
              "    </tr>\n",
              "    <tr>\n",
              "      <th>3</th>\n",
              "      <td>1855-08-01</td>\n",
              "      <td>25.427</td>\n",
              "      <td>1.073</td>\n",
              "      <td>Acre</td>\n",
              "      <td>Brazil</td>\n",
              "    </tr>\n",
              "    <tr>\n",
              "      <th>4</th>\n",
              "      <td>1855-09-01</td>\n",
              "      <td>25.675</td>\n",
              "      <td>1.014</td>\n",
              "      <td>Acre</td>\n",
              "      <td>Brazil</td>\n",
              "    </tr>\n",
              "  </tbody>\n",
              "</table>\n",
              "</div>"
            ],
            "text/plain": [
              "         date  avg_temp  conf_int_temp State Country\n",
              "0  1855-05-01    25.544          1.171  Acre  Brazil\n",
              "1  1855-06-01    24.228          1.103  Acre  Brazil\n",
              "2  1855-07-01    24.371          1.044  Acre  Brazil\n",
              "3  1855-08-01    25.427          1.073  Acre  Brazil\n",
              "4  1855-09-01    25.675          1.014  Acre  Brazil"
            ]
          },
          "metadata": {},
          "execution_count": 19
        }
      ]
    },
    {
      "cell_type": "code",
      "metadata": {
        "colab": {
          "base_uri": "https://localhost:8080/"
        },
        "id": "p_d2IOWIVkNb",
        "outputId": "0080700b-f34d-4f39-882c-7b063d63559b"
      },
      "source": [
        "df['date'] = pd.to_datetime(df['date'])\n",
        "df.set_index('date', inplace=True)\n",
        "df.index"
      ],
      "execution_count": 20,
      "outputs": [
        {
          "output_type": "execute_result",
          "data": {
            "text/plain": [
              "DatetimeIndex(['1855-05-01', '1855-06-01', '1855-07-01', '1855-08-01',\n",
              "               '1855-09-01', '1855-10-01', '1855-11-01', '1855-12-01',\n",
              "               '1856-01-01', '1856-02-01',\n",
              "               ...\n",
              "               '2012-11-01', '2012-12-01', '2013-01-01', '2013-02-01',\n",
              "               '2013-03-01', '2013-04-01', '2013-05-01', '2013-06-01',\n",
              "               '2013-07-01', '2013-08-01'],\n",
              "              dtype='datetime64[ns]', name='date', length=620027, freq=None)"
            ]
          },
          "metadata": {},
          "execution_count": 20
        }
      ]
    },
    {
      "cell_type": "code",
      "metadata": {
        "id": "PzB9RouKWwbV"
      },
      "source": [
        ""
      ],
      "execution_count": null,
      "outputs": []
    }
  ]
}